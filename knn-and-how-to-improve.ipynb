{
 "cells": [
  {
   "cell_type": "code",
   "execution_count": 1,
   "metadata": {
    "_cell_guid": "b1076dfc-b9ad-4769-8c92-a6c4dae69d19",
    "_uuid": "8f2839f25d086af736a60e9eeb907d3b93b6e0e5",
    "execution": {
     "iopub.execute_input": "2021-01-21T14:48:36.410868Z",
     "iopub.status.busy": "2021-01-21T14:48:36.409866Z",
     "iopub.status.idle": "2021-01-21T14:48:36.420712Z",
     "shell.execute_reply": "2021-01-21T14:48:36.421196Z"
    },
    "papermill": {
     "duration": 0.048543,
     "end_time": "2021-01-21T14:48:36.421361",
     "exception": false,
     "start_time": "2021-01-21T14:48:36.372818",
     "status": "completed"
    },
    "tags": []
   },
   "outputs": [
    {
     "name": "stdout",
     "output_type": "stream",
     "text": [
      "/kaggle/input/heart-disease-uci/heart.csv\n"
     ]
    }
   ],
   "source": [
    "# This Python 3 environment comes with many helpful analytics libraries installed\n",
    "# It is defined by the kaggle/python Docker image: https://github.com/kaggle/docker-python\n",
    "# For example, here's several helpful packages to load\n",
    "\n",
    "import numpy as np # linear algebra\n",
    "import pandas as pd # data processing, CSV file I/O (e.g. pd.read_csv)\n",
    "\n",
    "# Input data files are available in the read-only \"../input/\" directory\n",
    "# For example, running this (by clicking run or pressing Shift+Enter) will list all files under the input directory\n",
    "\n",
    "import os\n",
    "for dirname, _, filenames in os.walk('/kaggle/input'):\n",
    "    for filename in filenames:\n",
    "        print(os.path.join(dirname, filename))\n",
    "\n",
    "# You can write up to 20GB to the current directory (/kaggle/working/) that gets preserved as output when you create a version using \"Save & Run All\" \n",
    "# You can also write temporary files to /kaggle/temp/, but they won't be saved outside of the current session"
   ]
  },
  {
   "cell_type": "code",
   "execution_count": 2,
   "metadata": {
    "execution": {
     "iopub.execute_input": "2021-01-21T14:48:36.469695Z",
     "iopub.status.busy": "2021-01-21T14:48:36.469009Z",
     "iopub.status.idle": "2021-01-21T14:48:37.764419Z",
     "shell.execute_reply": "2021-01-21T14:48:37.763787Z"
    },
    "papermill": {
     "duration": 1.321994,
     "end_time": "2021-01-21T14:48:37.764563",
     "exception": false,
     "start_time": "2021-01-21T14:48:36.442569",
     "status": "completed"
    },
    "tags": []
   },
   "outputs": [],
   "source": [
    "import pandas as pd\n",
    "import numpy as np\n",
    "\n",
    "\n",
    "import matplotlib.pyplot as plt\n",
    "import seaborn as sns\n",
    "\n",
    "from sklearn.model_selection import train_test_split\n",
    "from sklearn.neighbors import KNeighborsClassifier\n",
    "from sklearn.metrics import classification_report\n",
    "from sklearn.metrics import roc_auc_score\n",
    "\n",
    "from sklearn.model_selection import GridSearchCV\n",
    "from sklearn.model_selection import cross_val_score\n",
    "\n"
   ]
  },
  {
   "cell_type": "code",
   "execution_count": 3,
   "metadata": {
    "execution": {
     "iopub.execute_input": "2021-01-21T14:48:37.813639Z",
     "iopub.status.busy": "2021-01-21T14:48:37.812956Z",
     "iopub.status.idle": "2021-01-21T14:48:37.825853Z",
     "shell.execute_reply": "2021-01-21T14:48:37.824983Z"
    },
    "papermill": {
     "duration": 0.039277,
     "end_time": "2021-01-21T14:48:37.825987",
     "exception": false,
     "start_time": "2021-01-21T14:48:37.786710",
     "status": "completed"
    },
    "tags": []
   },
   "outputs": [],
   "source": [
    "df=pd.read_csv('../input/heart-disease-uci/heart.csv')"
   ]
  },
  {
   "cell_type": "code",
   "execution_count": 4,
   "metadata": {
    "execution": {
     "iopub.execute_input": "2021-01-21T14:48:37.909938Z",
     "iopub.status.busy": "2021-01-21T14:48:37.907432Z",
     "iopub.status.idle": "2021-01-21T14:48:37.924784Z",
     "shell.execute_reply": "2021-01-21T14:48:37.923883Z"
    },
    "papermill": {
     "duration": 0.06626,
     "end_time": "2021-01-21T14:48:37.924910",
     "exception": false,
     "start_time": "2021-01-21T14:48:37.858650",
     "status": "completed"
    },
    "tags": []
   },
   "outputs": [
    {
     "data": {
      "text/html": [
       "<div>\n",
       "<style scoped>\n",
       "    .dataframe tbody tr th:only-of-type {\n",
       "        vertical-align: middle;\n",
       "    }\n",
       "\n",
       "    .dataframe tbody tr th {\n",
       "        vertical-align: top;\n",
       "    }\n",
       "\n",
       "    .dataframe thead th {\n",
       "        text-align: right;\n",
       "    }\n",
       "</style>\n",
       "<table border=\"1\" class=\"dataframe\">\n",
       "  <thead>\n",
       "    <tr style=\"text-align: right;\">\n",
       "      <th></th>\n",
       "      <th>age</th>\n",
       "      <th>sex</th>\n",
       "      <th>cp</th>\n",
       "      <th>trestbps</th>\n",
       "      <th>chol</th>\n",
       "      <th>fbs</th>\n",
       "      <th>restecg</th>\n",
       "      <th>thalach</th>\n",
       "      <th>exang</th>\n",
       "      <th>oldpeak</th>\n",
       "      <th>slope</th>\n",
       "      <th>ca</th>\n",
       "      <th>thal</th>\n",
       "      <th>target</th>\n",
       "    </tr>\n",
       "  </thead>\n",
       "  <tbody>\n",
       "    <tr>\n",
       "      <th>0</th>\n",
       "      <td>63</td>\n",
       "      <td>1</td>\n",
       "      <td>3</td>\n",
       "      <td>145</td>\n",
       "      <td>233</td>\n",
       "      <td>1</td>\n",
       "      <td>0</td>\n",
       "      <td>150</td>\n",
       "      <td>0</td>\n",
       "      <td>2.3</td>\n",
       "      <td>0</td>\n",
       "      <td>0</td>\n",
       "      <td>1</td>\n",
       "      <td>1</td>\n",
       "    </tr>\n",
       "    <tr>\n",
       "      <th>1</th>\n",
       "      <td>37</td>\n",
       "      <td>1</td>\n",
       "      <td>2</td>\n",
       "      <td>130</td>\n",
       "      <td>250</td>\n",
       "      <td>0</td>\n",
       "      <td>1</td>\n",
       "      <td>187</td>\n",
       "      <td>0</td>\n",
       "      <td>3.5</td>\n",
       "      <td>0</td>\n",
       "      <td>0</td>\n",
       "      <td>2</td>\n",
       "      <td>1</td>\n",
       "    </tr>\n",
       "    <tr>\n",
       "      <th>2</th>\n",
       "      <td>41</td>\n",
       "      <td>0</td>\n",
       "      <td>1</td>\n",
       "      <td>130</td>\n",
       "      <td>204</td>\n",
       "      <td>0</td>\n",
       "      <td>0</td>\n",
       "      <td>172</td>\n",
       "      <td>0</td>\n",
       "      <td>1.4</td>\n",
       "      <td>2</td>\n",
       "      <td>0</td>\n",
       "      <td>2</td>\n",
       "      <td>1</td>\n",
       "    </tr>\n",
       "    <tr>\n",
       "      <th>3</th>\n",
       "      <td>56</td>\n",
       "      <td>1</td>\n",
       "      <td>1</td>\n",
       "      <td>120</td>\n",
       "      <td>236</td>\n",
       "      <td>0</td>\n",
       "      <td>1</td>\n",
       "      <td>178</td>\n",
       "      <td>0</td>\n",
       "      <td>0.8</td>\n",
       "      <td>2</td>\n",
       "      <td>0</td>\n",
       "      <td>2</td>\n",
       "      <td>1</td>\n",
       "    </tr>\n",
       "    <tr>\n",
       "      <th>4</th>\n",
       "      <td>57</td>\n",
       "      <td>0</td>\n",
       "      <td>0</td>\n",
       "      <td>120</td>\n",
       "      <td>354</td>\n",
       "      <td>0</td>\n",
       "      <td>1</td>\n",
       "      <td>163</td>\n",
       "      <td>1</td>\n",
       "      <td>0.6</td>\n",
       "      <td>2</td>\n",
       "      <td>0</td>\n",
       "      <td>2</td>\n",
       "      <td>1</td>\n",
       "    </tr>\n",
       "  </tbody>\n",
       "</table>\n",
       "</div>"
      ],
      "text/plain": [
       "   age  sex  cp  trestbps  chol  fbs  restecg  thalach  exang  oldpeak  slope  \\\n",
       "0   63    1   3       145   233    1        0      150      0      2.3      0   \n",
       "1   37    1   2       130   250    0        1      187      0      3.5      0   \n",
       "2   41    0   1       130   204    0        0      172      0      1.4      2   \n",
       "3   56    1   1       120   236    0        1      178      0      0.8      2   \n",
       "4   57    0   0       120   354    0        1      163      1      0.6      2   \n",
       "\n",
       "   ca  thal  target  \n",
       "0   0     1       1  \n",
       "1   0     2       1  \n",
       "2   0     2       1  \n",
       "3   0     2       1  \n",
       "4   0     2       1  "
      ]
     },
     "execution_count": 4,
     "metadata": {},
     "output_type": "execute_result"
    }
   ],
   "source": [
    "df.head()"
   ]
  },
  {
   "cell_type": "code",
   "execution_count": 5,
   "metadata": {
    "execution": {
     "iopub.execute_input": "2021-01-21T14:48:37.995519Z",
     "iopub.status.busy": "2021-01-21T14:48:37.994573Z",
     "iopub.status.idle": "2021-01-21T14:48:37.999636Z",
     "shell.execute_reply": "2021-01-21T14:48:37.998803Z"
    },
    "papermill": {
     "duration": 0.043095,
     "end_time": "2021-01-21T14:48:37.999763",
     "exception": false,
     "start_time": "2021-01-21T14:48:37.956668",
     "status": "completed"
    },
    "tags": []
   },
   "outputs": [
    {
     "name": "stdout",
     "output_type": "stream",
     "text": [
      "df had 303 rows\n"
     ]
    }
   ],
   "source": [
    "print ('df had {} rows'. format(df.shape[0]))"
   ]
  },
  {
   "cell_type": "code",
   "execution_count": 6,
   "metadata": {
    "execution": {
     "iopub.execute_input": "2021-01-21T14:48:38.079837Z",
     "iopub.status.busy": "2021-01-21T14:48:38.079197Z",
     "iopub.status.idle": "2021-01-21T14:48:38.082587Z",
     "shell.execute_reply": "2021-01-21T14:48:38.081961Z"
    },
    "papermill": {
     "duration": 0.049843,
     "end_time": "2021-01-21T14:48:38.082690",
     "exception": false,
     "start_time": "2021-01-21T14:48:38.032847",
     "status": "completed"
    },
    "tags": []
   },
   "outputs": [
    {
     "name": "stdout",
     "output_type": "stream",
     "text": [
      "<class 'pandas.core.frame.DataFrame'>\n",
      "RangeIndex: 303 entries, 0 to 302\n",
      "Data columns (total 14 columns):\n",
      " #   Column    Non-Null Count  Dtype  \n",
      "---  ------    --------------  -----  \n",
      " 0   age       303 non-null    int64  \n",
      " 1   sex       303 non-null    int64  \n",
      " 2   cp        303 non-null    int64  \n",
      " 3   trestbps  303 non-null    int64  \n",
      " 4   chol      303 non-null    int64  \n",
      " 5   fbs       303 non-null    int64  \n",
      " 6   restecg   303 non-null    int64  \n",
      " 7   thalach   303 non-null    int64  \n",
      " 8   exang     303 non-null    int64  \n",
      " 9   oldpeak   303 non-null    float64\n",
      " 10  slope     303 non-null    int64  \n",
      " 11  ca        303 non-null    int64  \n",
      " 12  thal      303 non-null    int64  \n",
      " 13  target    303 non-null    int64  \n",
      "dtypes: float64(1), int64(13)\n",
      "memory usage: 33.3 KB\n"
     ]
    }
   ],
   "source": [
    "df.info()"
   ]
  },
  {
   "cell_type": "code",
   "execution_count": 7,
   "metadata": {
    "execution": {
     "iopub.execute_input": "2021-01-21T14:48:38.133815Z",
     "iopub.status.busy": "2021-01-21T14:48:38.133153Z",
     "iopub.status.idle": "2021-01-21T14:48:38.309754Z",
     "shell.execute_reply": "2021-01-21T14:48:38.309047Z"
    },
    "papermill": {
     "duration": 0.205255,
     "end_time": "2021-01-21T14:48:38.309890",
     "exception": false,
     "start_time": "2021-01-21T14:48:38.104635",
     "status": "completed"
    },
    "tags": []
   },
   "outputs": [
    {
     "data": {
      "text/plain": [
       "<matplotlib.axes._subplots.AxesSubplot at 0x7f6f27664190>"
      ]
     },
     "execution_count": 7,
     "metadata": {},
     "output_type": "execute_result"
    },
    {
     "data": {
      "image/png": "[encoded data removed]",
      "text/plain": [
       "<Figure size 432x288 with 1 Axes>"
      ]
     },
     "metadata": {
      "needs_background": "light"
     },
     "output_type": "display_data"
    }
   ],
   "source": [
    "sns.countplot(df.target)"
   ]
  },
  {
   "cell_type": "code",
   "execution_count": 8,
   "metadata": {
    "execution": {
     "iopub.execute_input": "2021-01-21T14:48:38.387478Z",
     "iopub.status.busy": "2021-01-21T14:48:38.386630Z",
     "iopub.status.idle": "2021-01-21T14:48:38.411668Z",
     "shell.execute_reply": "2021-01-21T14:48:38.412500Z"
    },
    "papermill": {
     "duration": 0.067725,
     "end_time": "2021-01-21T14:48:38.412676",
     "exception": false,
     "start_time": "2021-01-21T14:48:38.344951",
     "status": "completed"
    },
    "tags": []
   },
   "outputs": [
    {
     "name": "stdout",
     "output_type": "stream",
     "text": [
      "taux non risque heart attack 0.45544554455445546\n",
      "taux risque heart attack 0.5445544554455446\n"
     ]
    }
   ],
   "source": [
    "print ('taux non risque heart attack', len(df[df['target']==0])/df.shape[0])\n",
    "print ('taux risque heart attack', len(df[df['target']==1])/df.shape[0])\n"
   ]
  },
  {
   "cell_type": "code",
   "execution_count": 9,
   "metadata": {
    "execution": {
     "iopub.execute_input": "2021-01-21T14:48:38.510624Z",
     "iopub.status.busy": "2021-01-21T14:48:38.509066Z",
     "iopub.status.idle": "2021-01-21T14:48:38.515212Z",
     "shell.execute_reply": "2021-01-21T14:48:38.514431Z"
    },
    "papermill": {
     "duration": 0.067462,
     "end_time": "2021-01-21T14:48:38.515338",
     "exception": false,
     "start_time": "2021-01-21T14:48:38.447876",
     "status": "completed"
    },
    "tags": []
   },
   "outputs": [
    {
     "data": {
      "text/html": [
       "<div>\n",
       "<style scoped>\n",
       "    .dataframe tbody tr th:only-of-type {\n",
       "        vertical-align: middle;\n",
       "    }\n",
       "\n",
       "    .dataframe tbody tr th {\n",
       "        vertical-align: top;\n",
       "    }\n",
       "\n",
       "    .dataframe thead th {\n",
       "        text-align: right;\n",
       "    }\n",
       "</style>\n",
       "<table border=\"1\" class=\"dataframe\">\n",
       "  <thead>\n",
       "    <tr style=\"text-align: right;\">\n",
       "      <th></th>\n",
       "      <th>age</th>\n",
       "      <th>sex</th>\n",
       "      <th>cp</th>\n",
       "      <th>trestbps</th>\n",
       "      <th>chol</th>\n",
       "      <th>fbs</th>\n",
       "      <th>restecg</th>\n",
       "      <th>thalach</th>\n",
       "      <th>exang</th>\n",
       "      <th>oldpeak</th>\n",
       "      <th>slope</th>\n",
       "      <th>ca</th>\n",
       "      <th>thal</th>\n",
       "    </tr>\n",
       "    <tr>\n",
       "      <th>target</th>\n",
       "      <th></th>\n",
       "      <th></th>\n",
       "      <th></th>\n",
       "      <th></th>\n",
       "      <th></th>\n",
       "      <th></th>\n",
       "      <th></th>\n",
       "      <th></th>\n",
       "      <th></th>\n",
       "      <th></th>\n",
       "      <th></th>\n",
       "      <th></th>\n",
       "      <th></th>\n",
       "    </tr>\n",
       "  </thead>\n",
       "  <tbody>\n",
       "    <tr>\n",
       "      <th>0</th>\n",
       "      <td>56.601449</td>\n",
       "      <td>0.826087</td>\n",
       "      <td>0.478261</td>\n",
       "      <td>134.398551</td>\n",
       "      <td>251.086957</td>\n",
       "      <td>0.159420</td>\n",
       "      <td>0.449275</td>\n",
       "      <td>139.101449</td>\n",
       "      <td>0.550725</td>\n",
       "      <td>1.585507</td>\n",
       "      <td>1.166667</td>\n",
       "      <td>1.166667</td>\n",
       "      <td>2.543478</td>\n",
       "    </tr>\n",
       "    <tr>\n",
       "      <th>1</th>\n",
       "      <td>52.496970</td>\n",
       "      <td>0.563636</td>\n",
       "      <td>1.375758</td>\n",
       "      <td>129.303030</td>\n",
       "      <td>242.230303</td>\n",
       "      <td>0.139394</td>\n",
       "      <td>0.593939</td>\n",
       "      <td>158.466667</td>\n",
       "      <td>0.139394</td>\n",
       "      <td>0.583030</td>\n",
       "      <td>1.593939</td>\n",
       "      <td>0.363636</td>\n",
       "      <td>2.121212</td>\n",
       "    </tr>\n",
       "  </tbody>\n",
       "</table>\n",
       "</div>"
      ],
      "text/plain": [
       "              age       sex        cp    trestbps        chol       fbs  \\\n",
       "target                                                                    \n",
       "0       56.601449  0.826087  0.478261  134.398551  251.086957  0.159420   \n",
       "1       52.496970  0.563636  1.375758  129.303030  242.230303  0.139394   \n",
       "\n",
       "         restecg     thalach     exang   oldpeak     slope        ca      thal  \n",
       "target                                                                          \n",
       "0       0.449275  139.101449  0.550725  1.585507  1.166667  1.166667  2.543478  \n",
       "1       0.593939  158.466667  0.139394  0.583030  1.593939  0.363636  2.121212  "
      ]
     },
     "execution_count": 9,
     "metadata": {},
     "output_type": "execute_result"
    }
   ],
   "source": [
    "df.groupby('target').mean()"
   ]
  },
  {
   "cell_type": "code",
   "execution_count": 10,
   "metadata": {
    "execution": {
     "iopub.execute_input": "2021-01-21T14:48:38.603868Z",
     "iopub.status.busy": "2021-01-21T14:48:38.596082Z",
     "iopub.status.idle": "2021-01-21T14:48:38.632130Z",
     "shell.execute_reply": "2021-01-21T14:48:38.631273Z"
    },
    "papermill": {
     "duration": 0.079647,
     "end_time": "2021-01-21T14:48:38.632261",
     "exception": false,
     "start_time": "2021-01-21T14:48:38.552614",
     "status": "completed"
    },
    "tags": []
   },
   "outputs": [
    {
     "data": {
      "text/html": [
       "<div>\n",
       "<style scoped>\n",
       "    .dataframe tbody tr th:only-of-type {\n",
       "        vertical-align: middle;\n",
       "    }\n",
       "\n",
       "    .dataframe tbody tr th {\n",
       "        vertical-align: top;\n",
       "    }\n",
       "\n",
       "    .dataframe thead th {\n",
       "        text-align: right;\n",
       "    }\n",
       "</style>\n",
       "<table border=\"1\" class=\"dataframe\">\n",
       "  <thead>\n",
       "    <tr style=\"text-align: right;\">\n",
       "      <th></th>\n",
       "      <th>age</th>\n",
       "      <th>ca</th>\n",
       "      <th>chol</th>\n",
       "      <th>cp</th>\n",
       "      <th>exang</th>\n",
       "      <th>fbs</th>\n",
       "      <th>oldpeak</th>\n",
       "      <th>restecg</th>\n",
       "      <th>sex</th>\n",
       "      <th>slope</th>\n",
       "      <th>thal</th>\n",
       "      <th>thalach</th>\n",
       "      <th>trestbps</th>\n",
       "    </tr>\n",
       "    <tr>\n",
       "      <th>target</th>\n",
       "      <th></th>\n",
       "      <th></th>\n",
       "      <th></th>\n",
       "      <th></th>\n",
       "      <th></th>\n",
       "      <th></th>\n",
       "      <th></th>\n",
       "      <th></th>\n",
       "      <th></th>\n",
       "      <th></th>\n",
       "      <th></th>\n",
       "      <th></th>\n",
       "      <th></th>\n",
       "    </tr>\n",
       "  </thead>\n",
       "  <tbody>\n",
       "    <tr>\n",
       "      <th>0</th>\n",
       "      <td>56.601449</td>\n",
       "      <td>1.166667</td>\n",
       "      <td>251.086957</td>\n",
       "      <td>0.478261</td>\n",
       "      <td>0.550725</td>\n",
       "      <td>0.159420</td>\n",
       "      <td>1.585507</td>\n",
       "      <td>0.449275</td>\n",
       "      <td>0.826087</td>\n",
       "      <td>1.166667</td>\n",
       "      <td>2.543478</td>\n",
       "      <td>139.101449</td>\n",
       "      <td>134.398551</td>\n",
       "    </tr>\n",
       "    <tr>\n",
       "      <th>1</th>\n",
       "      <td>52.496970</td>\n",
       "      <td>0.363636</td>\n",
       "      <td>242.230303</td>\n",
       "      <td>1.375758</td>\n",
       "      <td>0.139394</td>\n",
       "      <td>0.139394</td>\n",
       "      <td>0.583030</td>\n",
       "      <td>0.593939</td>\n",
       "      <td>0.563636</td>\n",
       "      <td>1.593939</td>\n",
       "      <td>2.121212</td>\n",
       "      <td>158.466667</td>\n",
       "      <td>129.303030</td>\n",
       "    </tr>\n",
       "  </tbody>\n",
       "</table>\n",
       "</div>"
      ],
      "text/plain": [
       "              age        ca        chol        cp     exang       fbs  \\\n",
       "target                                                                  \n",
       "0       56.601449  1.166667  251.086957  0.478261  0.550725  0.159420   \n",
       "1       52.496970  0.363636  242.230303  1.375758  0.139394  0.139394   \n",
       "\n",
       "         oldpeak   restecg       sex     slope      thal     thalach  \\\n",
       "target                                                                 \n",
       "0       1.585507  0.449275  0.826087  1.166667  2.543478  139.101449   \n",
       "1       0.583030  0.593939  0.563636  1.593939  2.121212  158.466667   \n",
       "\n",
       "          trestbps  \n",
       "target              \n",
       "0       134.398551  \n",
       "1       129.303030  "
      ]
     },
     "execution_count": 10,
     "metadata": {},
     "output_type": "execute_result"
    }
   ],
   "source": [
    "pd.pivot_table(data=df,index=['target'])"
   ]
  },
  {
   "cell_type": "code",
   "execution_count": 11,
   "metadata": {
    "execution": {
     "iopub.execute_input": "2021-01-21T14:48:38.722287Z",
     "iopub.status.busy": "2021-01-21T14:48:38.718125Z",
     "iopub.status.idle": "2021-01-21T14:48:39.328524Z",
     "shell.execute_reply": "2021-01-21T14:48:39.327643Z"
    },
    "papermill": {
     "duration": 0.658478,
     "end_time": "2021-01-21T14:48:39.328668",
     "exception": false,
     "start_time": "2021-01-21T14:48:38.670190",
     "status": "completed"
    },
    "tags": []
   },
   "outputs": [
    {
     "data": {
      "text/plain": [
       "<matplotlib.axes._subplots.AxesSubplot at 0x7f6f1cc36410>"
      ]
     },
     "execution_count": 11,
     "metadata": {},
     "output_type": "execute_result"
    },
    {
     "data": {
      "image/png": "[encoded data removed]",
      "text/plain": [
       "<Figure size 720x720 with 1 Axes>"
      ]
     },
     "metadata": {
      "needs_background": "light"
     },
     "output_type": "display_data"
    }
   ],
   "source": [
    "\n",
    "pd.crosstab(df.age,df.target).plot(kind='bar',figsize=(10,10))"
   ]
  },
  {
   "cell_type": "markdown",
   "metadata": {
    "papermill": {
     "duration": 0.038598,
     "end_time": "2021-01-21T14:48:39.406409",
     "exception": false,
     "start_time": "2021-01-21T14:48:39.367811",
     "status": "completed"
    },
    "tags": []
   },
   "source": [
    "* Higist risk is in 40 - 54 years old"
   ]
  },
  {
   "cell_type": "code",
   "execution_count": 12,
   "metadata": {
    "execution": {
     "iopub.execute_input": "2021-01-21T14:48:39.501464Z",
     "iopub.status.busy": "2021-01-21T14:48:39.490886Z",
     "iopub.status.idle": "2021-01-21T14:48:39.850767Z",
     "shell.execute_reply": "2021-01-21T14:48:39.851401Z"
    },
    "papermill": {
     "duration": 0.406657,
     "end_time": "2021-01-21T14:48:39.851579",
     "exception": false,
     "start_time": "2021-01-21T14:48:39.444922",
     "status": "completed"
    },
    "tags": []
   },
   "outputs": [
    {
     "data": {
      "text/plain": [
       "<matplotlib.axes._subplots.AxesSubplot at 0x7f6f1a997b10>"
      ]
     },
     "execution_count": 12,
     "metadata": {},
     "output_type": "execute_result"
    },
    {
     "data": {
      "image/png": "[encoded data removed]",
      "text/plain": [
       "<Figure size 1440x288 with 2 Axes>"
      ]
     },
     "metadata": {
      "needs_background": "light"
     },
     "output_type": "display_data"
    }
   ],
   "source": [
    "f = plt.figure(figsize=(20,4))\n",
    "f.add_subplot(1,2,1)\n",
    "sns.distplot(df['trestbps'])\n",
    "f.add_subplot(1,2,2)\n",
    "sns.boxplot(df['trestbps'])"
   ]
  },
  {
   "cell_type": "markdown",
   "metadata": {
    "papermill": {
     "duration": 0.042098,
     "end_time": "2021-01-21T14:48:39.922241",
     "exception": false,
     "start_time": "2021-01-21T14:48:39.880143",
     "status": "completed"
    },
    "tags": []
   },
   "source": [
    "* For the value of resting blood pressure or trestbps, the most numbers are ranged from 120 to 140 mmHg.\n",
    "* The trestbps feature has several outliers."
   ]
  },
  {
   "cell_type": "code",
   "execution_count": 13,
   "metadata": {
    "execution": {
     "iopub.execute_input": "2021-01-21T14:48:40.017555Z",
     "iopub.status.busy": "2021-01-21T14:48:40.016660Z",
     "iopub.status.idle": "2021-01-21T14:48:40.045416Z",
     "shell.execute_reply": "2021-01-21T14:48:40.044355Z"
    },
    "papermill": {
     "duration": 0.080637,
     "end_time": "2021-01-21T14:48:40.045586",
     "exception": false,
     "start_time": "2021-01-21T14:48:39.964949",
     "status": "completed"
    },
    "tags": []
   },
   "outputs": [
    {
     "name": "stdout",
     "output_type": "stream",
     "text": [
      "              precision    recall  f1-score   support\n",
      "\n",
      "           0       0.57      0.68      0.62        38\n",
      "           1       0.73      0.62      0.67        53\n",
      "\n",
      "    accuracy                           0.65        91\n",
      "   macro avg       0.65      0.65      0.65        91\n",
      "weighted avg       0.66      0.65      0.65        91\n",
      "\n",
      "score by AUC 0.653426017874876\n"
     ]
    }
   ],
   "source": [
    "#creat a object\n",
    "KNN=  KNeighborsClassifier()\n",
    "\n",
    "#create X, y variables\n",
    "X= df.drop('target',axis=1)\n",
    "y=df['target']\n",
    "\n",
    "#decoupage train et test set\n",
    "\n",
    "X_train, X_test, y_train, y_test = train_test_split(X,y, test_size=0.3, random_state=3)\n",
    "\n",
    "# train model\n",
    "\n",
    "a = KNN.fit(X_train, y_train)\n",
    "\n",
    "#Predict test data set.\n",
    "y_pred = a.predict(X_test)\n",
    "\n",
    "#Checking performance our model with classification report.\n",
    "print(classification_report(y_test, y_pred))\n",
    "\n",
    "#Checking performance of model with ROC Score.\n",
    "print ('score by AUC', roc_auc_score(y_test, y_pred))\n",
    "\n"
   ]
  },
  {
   "cell_type": "markdown",
   "metadata": {
    "papermill": {
     "duration": 0.043298,
     "end_time": "2021-01-21T14:48:40.132314",
     "exception": false,
     "start_time": "2021-01-21T14:48:40.089016",
     "status": "completed"
    },
    "tags": []
   },
   "source": [
    "From the classification report, it can be seen that the model has an average performance of around 65% ranging from precision, recall, f1-score, and support. Accuracy also shows in value of 65%."
   ]
  },
  {
   "cell_type": "markdown",
   "metadata": {
    "papermill": {
     "duration": 0.043466,
     "end_time": "2021-01-21T14:48:40.219748",
     "exception": false,
     "start_time": "2021-01-21T14:48:40.176282",
     "status": "completed"
    },
    "tags": []
   },
   "source": [
    "*Then for the AUC score, it can be seen that the value is around 65%"
   ]
  },
  {
   "cell_type": "markdown",
   "metadata": {
    "papermill": {
     "duration": 0.043423,
     "end_time": "2021-01-21T14:48:40.308035",
     "exception": false,
     "start_time": "2021-01-21T14:48:40.264612",
     "status": "completed"
    },
    "tags": []
   },
   "source": [
    "# **Improve Model Performance by hyperparametre**"
   ]
  },
  {
   "cell_type": "markdown",
   "metadata": {
    "papermill": {
     "duration": 0.043787,
     "end_time": "2021-01-21T14:48:40.396457",
     "exception": false,
     "start_time": "2021-01-21T14:48:40.352670",
     "status": "completed"
    },
    "tags": []
   },
   "source": [
    "Tree hyperparametre to improve\n",
    "\n",
    "* changer K :  n_neighbors \n",
    "* Metric\n"
   ]
  },
  {
   "cell_type": "code",
   "execution_count": 14,
   "metadata": {
    "execution": {
     "iopub.execute_input": "2021-01-21T14:48:40.495785Z",
     "iopub.status.busy": "2021-01-21T14:48:40.493215Z",
     "iopub.status.idle": "2021-01-21T14:48:44.707236Z",
     "shell.execute_reply": "2021-01-21T14:48:44.706324Z"
    },
    "papermill": {
     "duration": 4.267153,
     "end_time": "2021-01-21T14:48:44.707398",
     "exception": false,
     "start_time": "2021-01-21T14:48:40.440245",
     "status": "completed"
    },
    "tags": []
   },
   "outputs": [
    {
     "data": {
      "text/plain": [
       "GridSearchCV(cv=10, estimator=KNeighborsClassifier(),\n",
       "             param_grid={'metric': ['euclidean', 'manhattan'],\n",
       "                         'n_neighbors': range(1, 30)},\n",
       "             scoring='accuracy')"
      ]
     },
     "execution_count": 14,
     "metadata": {},
     "output_type": "execute_result"
    }
   ],
   "source": [
    "param_grid = {'n_neighbors':range(1,30),'metric':['euclidean','manhattan']}\n",
    "grid = GridSearchCV(KNN, param_grid, cv=10, scoring='accuracy')\n",
    "grid.fit(X_train, y_train)\n",
    "\n",
    "\n",
    "\n",
    "\n"
   ]
  },
  {
   "cell_type": "code",
   "execution_count": 15,
   "metadata": {
    "execution": {
     "iopub.execute_input": "2021-01-21T14:48:44.804048Z",
     "iopub.status.busy": "2021-01-21T14:48:44.802914Z",
     "iopub.status.idle": "2021-01-21T14:48:44.809104Z",
     "shell.execute_reply": "2021-01-21T14:48:44.808412Z"
    },
    "papermill": {
     "duration": 0.058226,
     "end_time": "2021-01-21T14:48:44.809233",
     "exception": false,
     "start_time": "2021-01-21T14:48:44.751007",
     "status": "completed"
    },
    "tags": []
   },
   "outputs": [
    {
     "data": {
      "text/plain": [
       "0.725974025974026"
      ]
     },
     "execution_count": 15,
     "metadata": {},
     "output_type": "execute_result"
    }
   ],
   "source": [
    "grid.best_score_"
   ]
  },
  {
   "cell_type": "code",
   "execution_count": 16,
   "metadata": {
    "execution": {
     "iopub.execute_input": "2021-01-21T14:48:44.903975Z",
     "iopub.status.busy": "2021-01-21T14:48:44.903003Z",
     "iopub.status.idle": "2021-01-21T14:48:44.907715Z",
     "shell.execute_reply": "2021-01-21T14:48:44.906872Z"
    },
    "papermill": {
     "duration": 0.054898,
     "end_time": "2021-01-21T14:48:44.907844",
     "exception": false,
     "start_time": "2021-01-21T14:48:44.852946",
     "status": "completed"
    },
    "tags": []
   },
   "outputs": [
    {
     "data": {
      "text/plain": [
       "{'metric': 'manhattan', 'n_neighbors': 23}"
      ]
     },
     "execution_count": 16,
     "metadata": {},
     "output_type": "execute_result"
    }
   ],
   "source": [
    "grid.best_params_"
   ]
  },
  {
   "cell_type": "markdown",
   "metadata": {
    "papermill": {
     "duration": 0.044387,
     "end_time": "2021-01-21T14:48:44.996586",
     "exception": false,
     "start_time": "2021-01-21T14:48:44.952199",
     "status": "completed"
    },
    "tags": []
   },
   "source": [
    "**Conclusion**\n",
    "* on a augmenté le score de 0.65 à 0.72 avec metric: manhattan et n_neighbors :23"
   ]
  },
  {
   "cell_type": "markdown",
   "metadata": {
    "papermill": {
     "duration": 0.043789,
     "end_time": "2021-01-21T14:48:45.085074",
     "exception": false,
     "start_time": "2021-01-21T14:48:45.041285",
     "status": "completed"
    },
    "tags": []
   },
   "source": [
    "# Another way"
   ]
  },
  {
   "cell_type": "code",
   "execution_count": 17,
   "metadata": {
    "execution": {
     "iopub.execute_input": "2021-01-21T14:48:45.182984Z",
     "iopub.status.busy": "2021-01-21T14:48:45.182284Z",
     "iopub.status.idle": "2021-01-21T14:48:47.904864Z",
     "shell.execute_reply": "2021-01-21T14:48:47.903999Z"
    },
    "papermill": {
     "duration": 2.776006,
     "end_time": "2021-01-21T14:48:47.904995",
     "exception": false,
     "start_time": "2021-01-21T14:48:45.128989",
     "status": "completed"
    },
    "tags": []
   },
   "outputs": [
    {
     "name": "stdout",
     "output_type": "stream",
     "text": [
      "[0.5852813852813853, 0.6179653679653679, 0.5805194805194805, 0.6038961038961039, 0.6277056277056277, 0.6227272727272727, 0.6367965367965368, 0.6363636363636364, 0.6647186147186148, 0.6413419913419913, 0.6835497835497837, 0.6463203463203462, 0.6361471861471861, 0.6411255411255411, 0.6456709956709956, 0.6370129870129869, 0.6603896103896104, 0.6701298701298702, 0.6746753246753248, 0.6746753246753248, 0.688961038961039, 0.688961038961039, 0.7077922077922079, 0.6941558441558442, 0.6891774891774892, 0.7034632034632036, 0.6887445887445888, 0.6748917748917749, 0.6751082251082251, 0.6612554112554113]\n"
     ]
    }
   ],
   "source": [
    "# search for an optimal value of K for KNN\n",
    "\n",
    "# list of integers 1 to 30\n",
    "# integers we want to try\n",
    "k_range = range(1, 31)\n",
    "\n",
    "# list of scores from k_range\n",
    "k_scores = []\n",
    "\n",
    "# 1. we will loop through reasonable values of k\n",
    "for k in k_range:\n",
    "    # 2. run KNeighborsClassifier with k neighbours\n",
    "    knn = KNeighborsClassifier(n_neighbors=k)\n",
    "    # 3. obtain cross_val_score for KNeighborsClassifier with k neighbours\n",
    "    scores = cross_val_score(knn, X_train, y_train, cv=10, scoring='accuracy')\n",
    "    # 4. append mean of scores for k neighbors to k_scores list\n",
    "    k_scores.append(scores.mean())\n",
    "print(k_scores)\n"
   ]
  },
  {
   "cell_type": "code",
   "execution_count": 18,
   "metadata": {
    "execution": {
     "iopub.execute_input": "2021-01-21T14:48:48.007390Z",
     "iopub.status.busy": "2021-01-21T14:48:48.001973Z",
     "iopub.status.idle": "2021-01-21T14:48:48.163411Z",
     "shell.execute_reply": "2021-01-21T14:48:48.162617Z"
    },
    "papermill": {
     "duration": 0.21368,
     "end_time": "2021-01-21T14:48:48.163545",
     "exception": false,
     "start_time": "2021-01-21T14:48:47.949865",
     "status": "completed"
    },
    "tags": []
   },
   "outputs": [
    {
     "data": {
      "text/plain": [
       "Text(0, 0.5, 'Cross-Validated Accuracy')"
      ]
     },
     "execution_count": 18,
     "metadata": {},
     "output_type": "execute_result"
    },
    {
     "data": {
      "image/png": "[encoded data removed]",
      "text/plain": [
       "<Figure size 432x288 with 1 Axes>"
      ]
     },
     "metadata": {
      "needs_background": "light"
     },
     "output_type": "display_data"
    }
   ],
   "source": [
    "plt.plot(k_range, k_scores)\n",
    "plt.xlabel('Value of K for KNN')\n",
    "plt.ylabel('Cross-Validated Accuracy')"
   ]
  },
  {
   "cell_type": "markdown",
   "metadata": {
    "papermill": {
     "duration": 0.031896,
     "end_time": "2021-01-21T14:48:48.227948",
     "exception": false,
     "start_time": "2021-01-21T14:48:48.196052",
     "status": "completed"
    },
    "tags": []
   },
   "source": [
    "# Encore ameliorer avec standar scaler"
   ]
  },
  {
   "cell_type": "code",
   "execution_count": 19,
   "metadata": {
    "execution": {
     "iopub.execute_input": "2021-01-21T14:48:48.306331Z",
     "iopub.status.busy": "2021-01-21T14:48:48.305642Z",
     "iopub.status.idle": "2021-01-21T14:48:48.338330Z",
     "shell.execute_reply": "2021-01-21T14:48:48.337536Z"
    },
    "papermill": {
     "duration": 0.078446,
     "end_time": "2021-01-21T14:48:48.338469",
     "exception": false,
     "start_time": "2021-01-21T14:48:48.260023",
     "status": "completed"
    },
    "tags": []
   },
   "outputs": [
    {
     "name": "stdout",
     "output_type": "stream",
     "text": [
      "              precision    recall  f1-score   support\n",
      "\n",
      "           0       0.93      0.66      0.77        38\n",
      "           1       0.80      0.96      0.87        53\n",
      "\n",
      "    accuracy                           0.84        91\n",
      "   macro avg       0.86      0.81      0.82        91\n",
      "weighted avg       0.85      0.84      0.83        91\n",
      "\n"
     ]
    },
    {
     "data": {
      "text/plain": [
       "0.8100794438927508"
      ]
     },
     "execution_count": 19,
     "metadata": {},
     "output_type": "execute_result"
    }
   ],
   "source": [
    "from sklearn.preprocessing import StandardScaler\n",
    "#Create copy of dataset.\n",
    "df_model = df.copy()\n",
    "#Rescaling features age, trestbps, chol, thalach, oldpeak.\n",
    "scaler = StandardScaler()\n",
    "features = [['age', 'trestbps', 'chol', 'thalach', 'oldpeak']]\n",
    "for feature in features:\n",
    "    df_model[feature] = scaler.fit_transform(df_model[feature])\n",
    "#Create KNN Object\n",
    "knn = KNeighborsClassifier(n_neighbors=23,metric='manhattan')\n",
    "#Create x and y variable\n",
    "x = df_model.drop(columns=['target'])\n",
    "y = df_model['target']\n",
    "#Split data\n",
    "x_train, x_test, y_train, y_test = train_test_split(x, y, test_size=0.3, random_state=3)\n",
    "#Training the model\n",
    "knn.fit(x_train, y_train)\n",
    "#Predict testing set\n",
    "y_pred = knn.predict(x_test)\n",
    "#Check performance using accuracy\n",
    "print(classification_report(y_test, y_pred))\n",
    "#Check performance using roc\n",
    "roc_auc_score(y_test, y_pred)"
   ]
  },
  {
   "cell_type": "markdown",
   "metadata": {
    "papermill": {
     "duration": 0.031656,
     "end_time": "2021-01-21T14:48:48.402726",
     "exception": false,
     "start_time": "2021-01-21T14:48:48.371070",
     "status": "completed"
    },
    "tags": []
   },
   "source": [
    "# **Feature selection by high corelatio"
   ]
  },
  {
   "cell_type": "code",
   "execution_count": 20,
   "metadata": {
    "execution": {
     "iopub.execute_input": "2021-01-21T14:48:48.475823Z",
     "iopub.status.busy": "2021-01-21T14:48:48.475137Z",
     "iopub.status.idle": "2021-01-21T14:48:49.307486Z",
     "shell.execute_reply": "2021-01-21T14:48:49.306795Z"
    },
    "papermill": {
     "duration": 0.871833,
     "end_time": "2021-01-21T14:48:49.307594",
     "exception": false,
     "start_time": "2021-01-21T14:48:48.435761",
     "status": "completed"
    },
    "tags": []
   },
   "outputs": [
    {
     "data": {
      "image/png": "[encoded data removed]",
      "text/plain": [
       "<Figure size 864x720 with 2 Axes>"
      ]
     },
     "metadata": {
      "needs_background": "light"
     },
     "output_type": "display_data"
    }
   ],
   "source": [
    "plt.figure(figsize=(12,10))\n",
    "cor = df.corr()\n",
    "sns.heatmap(cor, annot=True, cmap=plt.cm.Reds)\n",
    "plt.show()"
   ]
  },
  {
   "cell_type": "code",
   "execution_count": 21,
   "metadata": {
    "execution": {
     "iopub.execute_input": "2021-01-21T14:48:49.391377Z",
     "iopub.status.busy": "2021-01-21T14:48:49.390545Z",
     "iopub.status.idle": "2021-01-21T14:48:49.395112Z",
     "shell.execute_reply": "2021-01-21T14:48:49.394309Z"
    },
    "papermill": {
     "duration": 0.050886,
     "end_time": "2021-01-21T14:48:49.395238",
     "exception": false,
     "start_time": "2021-01-21T14:48:49.344352",
     "status": "completed"
    },
    "tags": []
   },
   "outputs": [
    {
     "data": {
      "text/plain": [
       "cp         0.433798\n",
       "thalach    0.421741\n",
       "exang      0.436757\n",
       "oldpeak    0.430696\n",
       "slope      0.345877\n",
       "ca         0.391724\n",
       "thal       0.344029\n",
       "target     1.000000\n",
       "Name: target, dtype: float64"
      ]
     },
     "execution_count": 21,
     "metadata": {},
     "output_type": "execute_result"
    }
   ],
   "source": [
    "#Correlation with output variable\n",
    "cor_target = abs(cor['target'])\n",
    "#Selecting highly correlated features\n",
    "relevant_features = cor_target[cor_target>0.3]\n",
    "relevant_features"
   ]
  },
  {
   "cell_type": "code",
   "execution_count": 22,
   "metadata": {
    "execution": {
     "iopub.execute_input": "2021-01-21T14:48:49.511602Z",
     "iopub.status.busy": "2021-01-21T14:48:49.510510Z",
     "iopub.status.idle": "2021-01-21T14:48:49.513957Z",
     "shell.execute_reply": "2021-01-21T14:48:49.513109Z"
    },
    "papermill": {
     "duration": 0.065417,
     "end_time": "2021-01-21T14:48:49.514086",
     "exception": false,
     "start_time": "2021-01-21T14:48:49.448669",
     "status": "completed"
    },
    "tags": []
   },
   "outputs": [],
   "source": [
    "x1=df[['cp','thalach','exang','oldpeak','slope','ca','thal']]\n",
    "y1=df['target']"
   ]
  },
  {
   "cell_type": "code",
   "execution_count": 23,
   "metadata": {
    "execution": {
     "iopub.execute_input": "2021-01-21T14:48:49.637927Z",
     "iopub.status.busy": "2021-01-21T14:48:49.633888Z",
     "iopub.status.idle": "2021-01-21T14:48:49.659914Z",
     "shell.execute_reply": "2021-01-21T14:48:49.659173Z"
    },
    "papermill": {
     "duration": 0.092255,
     "end_time": "2021-01-21T14:48:49.660024",
     "exception": false,
     "start_time": "2021-01-21T14:48:49.567769",
     "status": "completed"
    },
    "tags": []
   },
   "outputs": [
    {
     "name": "stdout",
     "output_type": "stream",
     "text": [
      "              precision    recall  f1-score   support\n",
      "\n",
      "           0       0.68      0.55      0.61        38\n",
      "           1       0.72      0.81      0.76        53\n",
      "\n",
      "    accuracy                           0.70        91\n",
      "   macro avg       0.70      0.68      0.68        91\n",
      "weighted avg       0.70      0.70      0.70        91\n",
      "\n"
     ]
    },
    {
     "data": {
      "text/plain": [
       "0.6819761668321748"
      ]
     },
     "execution_count": 23,
     "metadata": {},
     "output_type": "execute_result"
    }
   ],
   "source": [
    "#Create KNN Object\n",
    "knn3 = KNeighborsClassifier(n_neighbors=23,metric='manhattan')\n",
    "#Split data\n",
    "x_train, x_test, y_train, y_test = train_test_split(x1, y1, test_size=0.3, random_state=3)\n",
    "#Training the model\n",
    "knn.fit(x_train, y_train)\n",
    "#Predict testing set\n",
    "y_pred = knn.predict(x_test)\n",
    "#Check performance using accuracy\n",
    "print(classification_report(y_test, y_pred))\n",
    "#Check performance using roc\n",
    "roc_auc_score(y_test, y_pred)"
   ]
  }
 ],
 "metadata": {
  "kernelspec": {
   "display_name": "Python 3",
   "language": "python",
   "name": "python3"
  },
  "language_info": {
   "codemirror_mode": {
    "name": "ipython",
    "version": 3
   },
   "file_extension": ".py",
   "mimetype": "text/x-python",
   "name": "python",
   "nbconvert_exporter": "python",
   "pygments_lexer": "ipython3",
   "version": "3.7.6"
  },
  "papermill": {
   "duration": 18.823886,
   "end_time": "2021-01-21T14:48:50.790583",
   "environment_variables": {},
   "exception": null,
   "input_path": "__notebook__.ipynb",
   "output_path": "__notebook__.ipynb",
   "parameters": {},
   "start_time": "2021-01-21T14:48:31.966697",
   "version": "2.1.0"
  }
 },
 "nbformat": 4,
 "nbformat_minor": 4
}
